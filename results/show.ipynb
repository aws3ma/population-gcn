{
 "cells": [
  {
   "cell_type": "code",
   "execution_count": 8,
   "metadata": {},
   "outputs": [],
   "source": [
    "import scipy.io\n",
    "mat = scipy.io.loadmat('ABIDE_classification.mat')"
   ]
  },
  {
   "cell_type": "code",
   "execution_count": 9,
   "metadata": {},
   "outputs": [
    {
     "data": {
      "text/plain": [
       "{'__header__': b'MATLAB 5.0 MAT-file Platform: nt, Created on: Wed Apr 12 17:26:53 2023',\n",
       " '__version__': '1.0',\n",
       " '__globals__': [],\n",
       " 'lin': array([[52, 59, 56, 60, 58, 59, 69, 55, 51, 57]]),\n",
       " 'lin_auc': array([[0.59255319, 0.70744681, 0.66117021, 0.7393617 , 0.70744681,\n",
       "         0.67819149, 0.88617021, 0.6892895 , 0.61293743, 0.69901401]]),\n",
       " 'acc': array([[40, 40, 40, 40, 40, 40, 40, 41, 41, 41]]),\n",
       " 'auc': array([[0.5, 0.5, 0.5, 0.5, 0.5, 0.5, 0.5, 0.5, 0.5, 0.5]]),\n",
       " 'folds': array([[87, 87, 87, 87, 87, 87, 87, 87, 87, 88]])}"
      ]
     },
     "execution_count": 9,
     "metadata": {},
     "output_type": "execute_result"
    }
   ],
   "source": [
    "mat\n"
   ]
  },
  {
   "cell_type": "code",
   "execution_count": 1,
   "metadata": {},
   "outputs": [
    {
     "data": {
      "text/plain": [
       "True"
      ]
     },
     "execution_count": 1,
     "metadata": {},
     "output_type": "execute_result"
    }
   ],
   "source": [
    "import tensorflow as tf \n",
    "tf.test.is_built_with_cuda()"
   ]
  },
  {
   "cell_type": "code",
   "execution_count": 2,
   "metadata": {},
   "outputs": [
    {
     "data": {
      "text/plain": [
       "[PhysicalDevice(name='/physical_device:GPU:0', device_type='GPU')]"
      ]
     },
     "execution_count": 2,
     "metadata": {},
     "output_type": "execute_result"
    }
   ],
   "source": [
    "tf.config.list_physical_devices('GPU')"
   ]
  },
  {
   "cell_type": "code",
   "execution_count": 1,
   "metadata": {},
   "outputs": [],
   "source": [
    "import scipy.io"
   ]
  },
  {
   "cell_type": "code",
   "execution_count": 5,
   "metadata": {},
   "outputs": [
    {
     "data": {
      "text/plain": [
       "array([[1.        , 0.75160644, 0.67794464, ..., 0.13654673, 0.33998135,\n",
       "        0.08527959],\n",
       "       [0.75160644, 1.        , 0.67363127, ..., 0.12479735, 0.30636708,\n",
       "        0.08503353],\n",
       "       [0.67794464, 0.67363127, 1.        , ..., 0.31130769, 0.44683066,\n",
       "        0.23067926],\n",
       "       ...,\n",
       "       [0.13654673, 0.12479735, 0.31130769, ..., 1.        , 0.72320768,\n",
       "        0.64552713],\n",
       "       [0.33998135, 0.30636708, 0.44683066, ..., 0.72320768, 1.        ,\n",
       "        0.80488771],\n",
       "       [0.08527959, 0.08503353, 0.23067926, ..., 0.64552713, 0.80488771,\n",
       "        1.        ]])"
      ]
     },
     "execution_count": 5,
     "metadata": {},
     "output_type": "execute_result"
    }
   ],
   "source": [
    "mat = scipy.io.loadmat('C:/Users/ousem/nilearn_data/ABIDE_pcp/cpac/filt_noglobal/50003/50003_ho_correlation.mat')\n",
    "mat['connectivity']"
   ]
  },
  {
   "cell_type": "code",
   "execution_count": 6,
   "metadata": {},
   "outputs": [],
   "source": [
    "import numpy as np"
   ]
  },
  {
   "cell_type": "code",
   "execution_count": 8,
   "metadata": {},
   "outputs": [],
   "source": [
    "np.savetxt('./timeseries50003.txt',mat['connectivity'])"
   ]
  },
  {
   "cell_type": "code",
   "execution_count": 9,
   "metadata": {},
   "outputs": [
    {
     "ename": "ModuleNotFoundError",
     "evalue": "No module named 'ABIDEParser'",
     "output_type": "error",
     "traceback": [
      "\u001b[1;31m---------------------------------------------------------------------------\u001b[0m",
      "\u001b[1;31mModuleNotFoundError\u001b[0m                       Traceback (most recent call last)",
      "Cell \u001b[1;32mIn[9], line 1\u001b[0m\n\u001b[1;32m----> 1\u001b[0m \u001b[39mimport\u001b[39;00m \u001b[39mABIDEParser\u001b[39;00m \u001b[39mas\u001b[39;00m \u001b[39mReader\u001b[39;00m\n",
      "\u001b[1;31mModuleNotFoundError\u001b[0m: No module named 'ABIDEParser'"
     ]
    }
   ],
   "source": []
  }
 ],
 "metadata": {
  "kernelspec": {
   "display_name": "population-gcn2-YZL6I4UQ",
   "language": "python",
   "name": "python3"
  },
  "language_info": {
   "codemirror_mode": {
    "name": "ipython",
    "version": 3
   },
   "file_extension": ".py",
   "mimetype": "text/x-python",
   "name": "python",
   "nbconvert_exporter": "python",
   "pygments_lexer": "ipython3",
   "version": "3.8.0"
  },
  "orig_nbformat": 4
 },
 "nbformat": 4,
 "nbformat_minor": 2
}
